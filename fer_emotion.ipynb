{
  "nbformat": 4,
  "nbformat_minor": 0,
  "metadata": {
    "colab": {
      "name": "fer_emotion.ipynb",
      "provenance": [],
      "collapsed_sections": [],
      "authorship_tag": "ABX9TyO9fb6vYpoX0k1FNmldoYCp",
      "include_colab_link": true
    },
    "kernelspec": {
      "name": "python3",
      "display_name": "Python 3"
    },
    "language_info": {
      "name": "python"
    }
  },
  "cells": [
    {
      "cell_type": "markdown",
      "metadata": {
        "id": "view-in-github",
        "colab_type": "text"
      },
      "source": [
        "<a href=\"https://colab.research.google.com/github/phanisekhar-dintakurthi/kwikpic-emotion-detector/blob/main/fer_emotion.ipynb\" target=\"_parent\"><img src=\"https://colab.research.google.com/assets/colab-badge.svg\" alt=\"Open In Colab\"/></a>"
      ]
    },
    {
      "cell_type": "code",
      "metadata": {
        "colab": {
          "base_uri": "https://localhost:8080/"
        },
        "id": "eSqRtwTqif4t",
        "outputId": "bfdeed72-3aa2-40ac-b3fc-3b1f3a67aa4f"
      },
      "source": [
        "import cv2\n",
        "from fer import FER\n",
        "\n",
        "image = cv2.imread(\"/content/happy.jpeg\")\n",
        "\n",
        "detector = FER()\n",
        "\n",
        "data = (detector.detect_emotions(image))\n",
        "\n",
        "dict = data[0]\n",
        "lst = [(k, dict[k]) for k in dict]\n",
        "\n",
        "new_dict = lst[1][1]\n",
        "\n",
        "print(\"********************************************\")\n",
        "print(\"Different emotions present in Image was:\")\n",
        "for i in new_dict :\n",
        "    print(i,\":\", new_dict[i])\n",
        "\n",
        "print(\"********************************************\")\n",
        "\n",
        "emotion, value = detector.top_emotion(image)\n",
        "print(\"Top emotion is:\", emotion, \"and its value is:\", value)\n",
        "\n"
      ],
      "execution_count": 8,
      "outputs": [
        {
          "output_type": "stream",
          "text": [
            "/usr/local/lib/python3.7/dist-packages/tensorflow/python/keras/engine/training.py:2325: UserWarning: `Model.state_updates` will be removed in a future version. This property should not be used in TensorFlow 2.0, as `updates` are applied automatically.\n",
            "  warnings.warn('`Model.state_updates` will be removed in a future version. '\n"
          ],
          "name": "stderr"
        },
        {
          "output_type": "stream",
          "text": [
            "********************************************\n",
            "Different emotions present in Image was:\n",
            "angry : 0.0\n",
            "disgust : 0.0\n",
            "fear : 0.0\n",
            "happy : 0.97\n",
            "sad : 0.0\n",
            "surprise : 0.0\n",
            "neutral : 0.03\n",
            "********************************************\n",
            "Top emotion is: happy and its value is: 0.97\n"
          ],
          "name": "stdout"
        }
      ]
    },
    {
      "cell_type": "code",
      "metadata": {
        "id": "DGXM0QRbjbFo"
      },
      "source": [
        ""
      ],
      "execution_count": null,
      "outputs": []
    }
  ]
}
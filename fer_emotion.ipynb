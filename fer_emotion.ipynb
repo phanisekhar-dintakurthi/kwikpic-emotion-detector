{
  "nbformat": 4,
  "nbformat_minor": 0,
  "metadata": {
    "colab": {
      "name": "fer_emotion.ipynb",
      "provenance": [],
      "collapsed_sections": [],
      "authorship_tag": "ABX9TyNZ0joErKEpHfYk5SZzmqle",
      "include_colab_link": true
    },
    "kernelspec": {
      "name": "python3",
      "display_name": "Python 3"
    },
    "language_info": {
      "name": "python"
    }
  },
  "cells": [
    {
      "cell_type": "markdown",
      "metadata": {
        "id": "view-in-github",
        "colab_type": "text"
      },
      "source": [
        "<a href=\"https://colab.research.google.com/github/phanisekhar-dintakurthi/kwikpic-emotion-detector/blob/main/fer_emotion.ipynb\" target=\"_parent\"><img src=\"https://colab.research.google.com/assets/colab-badge.svg\" alt=\"Open In Colab\"/></a>"
      ]
    },
    {
      "cell_type": "markdown",
      "metadata": {
        "id": "zUhEnzCOsKIc"
      },
      "source": [
        "![happy.jpeg](data:image/jpeg;base64,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)"
      ]
    },
    {
      "cell_type": "code",
      "metadata": {
        "colab": {
          "base_uri": "https://localhost:8080/"
        },
        "id": "eSqRtwTqif4t",
        "outputId": "bfdeed72-3aa2-40ac-b3fc-3b1f3a67aa4f"
      },
      "source": [
        "import cv2\n",
        "from fer import FER\n",
        "\n",
        "image = cv2.imread(\"/content/happy.jpeg\")\n",
        "\n",
        "detector = FER()\n",
        "\n",
        "data = (detector.detect_emotions(image))\n",
        "\n",
        "dict = data[0]\n",
        "lst = [(k, dict[k]) for k in dict]\n",
        "\n",
        "new_dict = lst[1][1]\n",
        "\n",
        "print(\"********************************************\")\n",
        "print(\"Different emotions present in Image was:\")\n",
        "for i in new_dict :\n",
        "    print(i,\":\", new_dict[i])\n",
        "\n",
        "print(\"********************************************\")\n",
        "\n",
        "emotion, value = detector.top_emotion(image)\n",
        "print(\"Top emotion is:\", emotion, \"and its value is:\", value)\n",
        "\n"
      ],
      "execution_count": 8,
      "outputs": [
        {
          "output_type": "stream",
          "text": [
            "/usr/local/lib/python3.7/dist-packages/tensorflow/python/keras/engine/training.py:2325: UserWarning: `Model.state_updates` will be removed in a future version. This property should not be used in TensorFlow 2.0, as `updates` are applied automatically.\n",
            "  warnings.warn('`Model.state_updates` will be removed in a future version. '\n"
          ],
          "name": "stderr"
        },
        {
          "output_type": "stream",
          "text": [
            "********************************************\n",
            "Different emotions present in Image was:\n",
            "angry : 0.0\n",
            "disgust : 0.0\n",
            "fear : 0.0\n",
            "happy : 0.97\n",
            "sad : 0.0\n",
            "surprise : 0.0\n",
            "neutral : 0.03\n",
            "********************************************\n",
            "Top emotion is: happy and its value is: 0.97\n"
          ],
          "name": "stdout"
        }
      ]
    }
  ]
}